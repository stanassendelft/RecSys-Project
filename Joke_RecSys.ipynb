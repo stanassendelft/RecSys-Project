{
 "cells": [
  {
   "attachments": {},
   "cell_type": "markdown",
   "metadata": {},
   "source": [
    "# **Recommendation System Jester**\n",
    "Name: Stan Assendelft\n",
    "<br> Studentnumber: 500748446\n",
    "<br> Course: System Development for Marketing\n",
    "\n",
    "# 1| Introduction\n",
    "Recommendation systems have become a big part of many online platforms, shaping how users discover and interact with content. Among the various types of recommendation systems, collaborative filtering stands out as a widely used and effective approach. This method recommends items to users based on their previous preferences and the behaviour of similar users (Fopa, Gueye, Ndiaye, & Naacke, 2022). \n",
    "\n",
    "Algorithms like K-Nearest Neighbors (KNN) and Singular Value Decomposition (SVD) are espacially well-known in the field of collaberative filtering, These methods have been popular because they can analyse trends in user-timer interactions to produce personalised suggestions (Yuan, Han, Qian, Xu, & Yan, 2019). \n",
    "\n",
    "### 1.1| Reserach Question\n",
    "The main research question that this notebook aims to investigate is whether KNN and SVD can effectively predict ratings for jokes that a user has never seen before. This question is important because it can help to understand the effectiveness of these algorithms and their potential to improve the user experience of recommendation systems. To answer this question, the accuracy of the predictions made by KNN and SVD will be explored. The following research question and sub-questions arose: <br> \n",
    "<br> _Can KNN and SVD effectively predict ratings for jokes that a user has never seen before?_\n",
    "\n",
    "To address this, the following sub-questions will be explained:\n",
    "* How accurate are the predictions made by KNN and SVD algorithms for unseen jokes?\n",
    "* Which algorithm (KNN or SVD) performs better?\n",
    "* How can the performance of the algorithms be improved?"
   ]
  },
  {
   "cell_type": "markdown",
   "metadata": {},
   "source": [
    "### 1.2| Importing  Required Libraries"
   ]
  },
  {
   "cell_type": "code",
   "execution_count": null,
   "metadata": {},
   "outputs": [],
   "source": [
    "# Importing all the needed libraries \n",
    "# Importing general libraries\n",
    "import pandas as pd\n",
    "import numpy as np\n",
    "\n",
    "# Importing libraries for visualisation\n",
    "import matplotlib.pyplot as plt\n",
    "import seaborn as sns\n",
    "\n",
    "# Importing scipy for calculations\n",
    "from scipy.sparse import csr_matrix\n",
    "\n",
    "# Importing sklearn for calculations \n",
    "from sklearn.model_selection import train_test_split\n",
    "from sklearn.neighbors import NearestNeighbors\n",
    "from sklearn.metrics import f1_score\n",
    "from sklearn.metrics.pairwise import cosine_similarity\n",
    "\n",
    "# Imporing Suprise package for SVD\n",
    "from surprise import Dataset, SVD\n",
    "from surprise import Reader\n",
    "from surprise import KNNBasic\n",
    "from surprise import accuracy\n",
    "from surprise.model_selection import GridSearchCV\n",
    "from surprise.model_selection import train_test_split\n",
    "from collections import defaultdict"
   ]
  },
  {
   "cell_type": "markdown",
   "metadata": {},
   "source": [
    "# 2| Explanatory Data Analysis\n",
    "In this project, the Jester dataset is used, which contains joke ratigns given by users. This chapter focuses on exploring and preparting the dataset to make it suitable for building a recommendations system using K-Nearest Neighbors (KNN) and Singular Value Decomposition (SVD). To ensure the data is ready for modeling the dataset will be loaded and cleaned. Throughout this phase, visualisations are used to understand the distributions of users, jokes and ratings. \n",
    "### 2.1| Reading Jester Dataset"
   ]
  },
  {
   "cell_type": "code",
   "execution_count": 2,
   "metadata": {},
   "outputs": [],
   "source": [
    "# Reading and merging the two CSV files\n",
    "items_df = pd.read_csv(r\"E:\\DDBM\\jester_items.csv\")\n",
    "ratings_df = pd.read_csv(r\"E:\\DDBM\\jester_ratings.csv\")\n",
    "\n",
    "df = pd.merge(items_df, ratings_df, on=\"jokeId\")"
   ]
  },
  {
   "cell_type": "code",
   "execution_count": 3,
   "metadata": {},
   "outputs": [
    {
     "data": {
      "text/html": [
       "<div>\n",
       "<style scoped>\n",
       "    .dataframe tbody tr th:only-of-type {\n",
       "        vertical-align: middle;\n",
       "    }\n",
       "\n",
       "    .dataframe tbody tr th {\n",
       "        vertical-align: top;\n",
       "    }\n",
       "\n",
       "    .dataframe thead th {\n",
       "        text-align: right;\n",
       "    }\n",
       "</style>\n",
       "<table border=\"1\" class=\"dataframe\">\n",
       "  <thead>\n",
       "    <tr style=\"text-align: right;\">\n",
       "      <th></th>\n",
       "      <th>jokeId</th>\n",
       "      <th>jokeText</th>\n",
       "      <th>userId</th>\n",
       "      <th>rating</th>\n",
       "    </tr>\n",
       "  </thead>\n",
       "  <tbody>\n",
       "    <tr>\n",
       "      <th>0</th>\n",
       "      <td>5</td>\n",
       "      <td>Q.\\tWhat's O. J. Simpson's Internet address? \\...</td>\n",
       "      <td>1</td>\n",
       "      <td>0.219</td>\n",
       "    </tr>\n",
       "    <tr>\n",
       "      <th>1</th>\n",
       "      <td>5</td>\n",
       "      <td>Q.\\tWhat's O. J. Simpson's Internet address? \\...</td>\n",
       "      <td>2</td>\n",
       "      <td>-9.688</td>\n",
       "    </tr>\n",
       "    <tr>\n",
       "      <th>2</th>\n",
       "      <td>5</td>\n",
       "      <td>Q.\\tWhat's O. J. Simpson's Internet address? \\...</td>\n",
       "      <td>3</td>\n",
       "      <td>-9.844</td>\n",
       "    </tr>\n",
       "    <tr>\n",
       "      <th>3</th>\n",
       "      <td>5</td>\n",
       "      <td>Q.\\tWhat's O. J. Simpson's Internet address? \\...</td>\n",
       "      <td>4</td>\n",
       "      <td>-5.812</td>\n",
       "    </tr>\n",
       "    <tr>\n",
       "      <th>4</th>\n",
       "      <td>5</td>\n",
       "      <td>Q.\\tWhat's O. J. Simpson's Internet address? \\...</td>\n",
       "      <td>5</td>\n",
       "      <td>6.906</td>\n",
       "    </tr>\n",
       "  </tbody>\n",
       "</table>\n",
       "</div>"
      ],
      "text/plain": [
       "   jokeId                                           jokeText  userId  rating\n",
       "0       5  Q.\\tWhat's O. J. Simpson's Internet address? \\...       1   0.219\n",
       "1       5  Q.\\tWhat's O. J. Simpson's Internet address? \\...       2  -9.688\n",
       "2       5  Q.\\tWhat's O. J. Simpson's Internet address? \\...       3  -9.844\n",
       "3       5  Q.\\tWhat's O. J. Simpson's Internet address? \\...       4  -5.812\n",
       "4       5  Q.\\tWhat's O. J. Simpson's Internet address? \\...       5   6.906"
      ]
     },
     "execution_count": 3,
     "metadata": {},
     "output_type": "execute_result"
    }
   ],
   "source": [
    "df.head()"
   ]
  },
  {
   "cell_type": "markdown",
   "metadata": {},
   "source": [
    "### 2.2| Dataset Understanding"
   ]
  },
  {
   "cell_type": "code",
   "execution_count": 4,
   "metadata": {},
   "outputs": [
    {
     "name": "stdout",
     "output_type": "stream",
     "text": [
      "<class 'pandas.core.frame.DataFrame'>\n",
      "Int64Index: 1761439 entries, 0 to 1761438\n",
      "Data columns (total 4 columns):\n",
      " #   Column    Dtype  \n",
      "---  ------    -----  \n",
      " 0   jokeId    int64  \n",
      " 1   jokeText  object \n",
      " 2   userId    int64  \n",
      " 3   rating    float64\n",
      "dtypes: float64(1), int64(2), object(1)\n",
      "memory usage: 67.2+ MB\n"
     ]
    }
   ],
   "source": [
    "# Checking the data\n",
    "df.info()"
   ]
  },
  {
   "cell_type": "code",
   "execution_count": 5,
   "metadata": {},
   "outputs": [
    {
     "data": {
      "text/html": [
       "<div>\n",
       "<style scoped>\n",
       "    .dataframe tbody tr th:only-of-type {\n",
       "        vertical-align: middle;\n",
       "    }\n",
       "\n",
       "    .dataframe tbody tr th {\n",
       "        vertical-align: top;\n",
       "    }\n",
       "\n",
       "    .dataframe thead th {\n",
       "        text-align: right;\n",
       "    }\n",
       "</style>\n",
       "<table border=\"1\" class=\"dataframe\">\n",
       "  <thead>\n",
       "    <tr style=\"text-align: right;\">\n",
       "      <th></th>\n",
       "      <th>jokeId</th>\n",
       "      <th>userId</th>\n",
       "      <th>rating</th>\n",
       "    </tr>\n",
       "  </thead>\n",
       "  <tbody>\n",
       "    <tr>\n",
       "      <th>count</th>\n",
       "      <td>1.761439e+06</td>\n",
       "      <td>1.761439e+06</td>\n",
       "      <td>1.761439e+06</td>\n",
       "    </tr>\n",
       "    <tr>\n",
       "      <th>mean</th>\n",
       "      <td>7.071133e+01</td>\n",
       "      <td>3.272322e+04</td>\n",
       "      <td>1.618602e+00</td>\n",
       "    </tr>\n",
       "    <tr>\n",
       "      <th>std</th>\n",
       "      <td>4.600790e+01</td>\n",
       "      <td>1.828011e+04</td>\n",
       "      <td>5.302608e+00</td>\n",
       "    </tr>\n",
       "    <tr>\n",
       "      <th>min</th>\n",
       "      <td>5.000000e+00</td>\n",
       "      <td>1.000000e+00</td>\n",
       "      <td>-1.000000e+01</td>\n",
       "    </tr>\n",
       "    <tr>\n",
       "      <th>25%</th>\n",
       "      <td>2.100000e+01</td>\n",
       "      <td>1.720200e+04</td>\n",
       "      <td>-2.031000e+00</td>\n",
       "    </tr>\n",
       "    <tr>\n",
       "      <th>50%</th>\n",
       "      <td>6.900000e+01</td>\n",
       "      <td>3.480800e+04</td>\n",
       "      <td>2.219000e+00</td>\n",
       "    </tr>\n",
       "    <tr>\n",
       "      <th>75%</th>\n",
       "      <td>1.120000e+02</td>\n",
       "      <td>4.730600e+04</td>\n",
       "      <td>5.719000e+00</td>\n",
       "    </tr>\n",
       "    <tr>\n",
       "      <th>max</th>\n",
       "      <td>1.500000e+02</td>\n",
       "      <td>6.397800e+04</td>\n",
       "      <td>1.000000e+01</td>\n",
       "    </tr>\n",
       "  </tbody>\n",
       "</table>\n",
       "</div>"
      ],
      "text/plain": [
       "             jokeId        userId        rating\n",
       "count  1.761439e+06  1.761439e+06  1.761439e+06\n",
       "mean   7.071133e+01  3.272322e+04  1.618602e+00\n",
       "std    4.600790e+01  1.828011e+04  5.302608e+00\n",
       "min    5.000000e+00  1.000000e+00 -1.000000e+01\n",
       "25%    2.100000e+01  1.720200e+04 -2.031000e+00\n",
       "50%    6.900000e+01  3.480800e+04  2.219000e+00\n",
       "75%    1.120000e+02  4.730600e+04  5.719000e+00\n",
       "max    1.500000e+02  6.397800e+04  1.000000e+01"
      ]
     },
     "execution_count": 5,
     "metadata": {},
     "output_type": "execute_result"
    }
   ],
   "source": [
    "df.describe()"
   ]
  },
  {
   "cell_type": "code",
   "execution_count": 6,
   "metadata": {},
   "outputs": [
    {
     "name": "stdout",
     "output_type": "stream",
     "text": [
      "Total number of ratings: 1761439\n",
      "Mean rating: 1.619\n",
      "Number of unique users: 59132\n",
      "Number of unique items: 140\n",
      "Proportion of non-empty ratings: 0.213\n"
     ]
    }
   ],
   "source": [
    "def calculate_statistics(data, item_column=\"jokeId\", user_column=\"userId\"):\n",
    "    total_ratings = len(data)\n",
    "    mean_rating = np.mean(data[\"rating\"])\n",
    "    unique_users = len(np.unique(data[user_column]))\n",
    "    unique_items = len(np.unique(data[item_column]))\n",
    "    non_nan_fraction = total_ratings / (unique_users * unique_items)\n",
    "\n",
    "    print(\"Total number of ratings:\", total_ratings)\n",
    "    print(f\"Mean rating: {mean_rating:.3f}\")\n",
    "    print(f\"Number of unique users: {unique_users}\")\n",
    "    print(f\"Number of unique items: {unique_items}\")\n",
    "    print(f\"Proportion of non-empty ratings: {non_nan_fraction:.3f}\")\n",
    "\n",
    "    return unique_users, unique_items\n",
    "\n",
    "N, M = calculate_statistics(df)"
   ]
  },
  {
   "cell_type": "markdown",
   "metadata": {},
   "source": [
    "59132 users have given 140 different jokes ratings. In total the dataset have 1761439 ratings. The sparsity of the dataset is also notable, with a proportion of non-empty ratings at 21.3%, it means that around 78.7% of the possible user–joke combinations are unfilled."
   ]
  },
  {
   "cell_type": "code",
   "execution_count": null,
   "metadata": {},
   "outputs": [
    {
     "name": "stdout",
     "output_type": "stream",
     "text": [
      "Minimum rating: -10.0\n",
      "Maximum rating: 10.0\n"
     ]
    }
   ],
   "source": [
    "# Check the min and max values in the dataset\n",
    "print(\"Minimum rating:\", df[\"rating\"].min())\n",
    "print(\"Maximum rating:\", df[\"rating\"].max())"
   ]
  },
  {
   "cell_type": "code",
   "execution_count": null,
   "metadata": {},
   "outputs": [
    {
     "name": "stdout",
     "output_type": "stream",
     "text": [
      "304    140\n",
      "476    140\n",
      "477    140\n",
      "701    140\n",
      "227    140\n",
      "442    139\n",
      "46     136\n",
      "159    132\n",
      "410    132\n",
      "315    131\n",
      "Name: userId, dtype: int64\n"
     ]
    }
   ],
   "source": [
    "# Count the number of ratings per user\n",
    "user_rating_counts = df[\"userId\"].value_counts()\n",
    "# Display the first 10 users with the most ratings\n",
    "print(user_rating_counts.head(10))"
   ]
  },
  {
   "cell_type": "code",
   "execution_count": 9,
   "metadata": {},
   "outputs": [
    {
     "name": "stdout",
     "output_type": "stream",
     "text": [
      "0\n"
     ]
    }
   ],
   "source": [
    "# Checking for NaN containing rows\n",
    "print(sum(df.isnull().any()))"
   ]
  },
  {
   "cell_type": "code",
   "execution_count": null,
   "metadata": {},
   "outputs": [
    {
     "name": "stdout",
     "output_type": "stream",
     "text": [
      "Number of duplicate rows: 0\n"
     ]
    }
   ],
   "source": [
    "# Count duplicate rows\n",
    "num_duplicates = df.duplicated().sum()\n",
    "print(f\"Number of duplicate rows: {num_duplicates}\")"
   ]
  },
  {
   "cell_type": "markdown",
   "metadata": {},
   "source": [
    "There are no missing values or duplicates in the dataframe."
   ]
  },
  {
   "cell_type": "code",
   "execution_count": 11,
   "metadata": {},
   "outputs": [],
   "source": [
    "df = df.sort_values(by=[\"jokeId\", \"userId\",])\n",
    "df = df.reset_index(drop=True)"
   ]
  },
  {
   "cell_type": "code",
   "execution_count": 12,
   "metadata": {},
   "outputs": [
    {
     "data": {
      "text/html": [
       "<div>\n",
       "<style scoped>\n",
       "    .dataframe tbody tr th:only-of-type {\n",
       "        vertical-align: middle;\n",
       "    }\n",
       "\n",
       "    .dataframe tbody tr th {\n",
       "        vertical-align: top;\n",
       "    }\n",
       "\n",
       "    .dataframe thead th {\n",
       "        text-align: right;\n",
       "    }\n",
       "</style>\n",
       "<table border=\"1\" class=\"dataframe\">\n",
       "  <thead>\n",
       "    <tr style=\"text-align: right;\">\n",
       "      <th></th>\n",
       "      <th>jokeId</th>\n",
       "      <th>jokeText</th>\n",
       "      <th>userId</th>\n",
       "      <th>rating</th>\n",
       "    </tr>\n",
       "  </thead>\n",
       "  <tbody>\n",
       "    <tr>\n",
       "      <th>0</th>\n",
       "      <td>5</td>\n",
       "      <td>Q.\\tWhat's O. J. Simpson's Internet address? \\...</td>\n",
       "      <td>1</td>\n",
       "      <td>0.219</td>\n",
       "    </tr>\n",
       "    <tr>\n",
       "      <th>1</th>\n",
       "      <td>5</td>\n",
       "      <td>Q.\\tWhat's O. J. Simpson's Internet address? \\...</td>\n",
       "      <td>2</td>\n",
       "      <td>-9.688</td>\n",
       "    </tr>\n",
       "    <tr>\n",
       "      <th>2</th>\n",
       "      <td>5</td>\n",
       "      <td>Q.\\tWhat's O. J. Simpson's Internet address? \\...</td>\n",
       "      <td>3</td>\n",
       "      <td>-9.844</td>\n",
       "    </tr>\n",
       "    <tr>\n",
       "      <th>3</th>\n",
       "      <td>5</td>\n",
       "      <td>Q.\\tWhat's O. J. Simpson's Internet address? \\...</td>\n",
       "      <td>4</td>\n",
       "      <td>-5.812</td>\n",
       "    </tr>\n",
       "    <tr>\n",
       "      <th>4</th>\n",
       "      <td>5</td>\n",
       "      <td>Q.\\tWhat's O. J. Simpson's Internet address? \\...</td>\n",
       "      <td>5</td>\n",
       "      <td>6.906</td>\n",
       "    </tr>\n",
       "  </tbody>\n",
       "</table>\n",
       "</div>"
      ],
      "text/plain": [
       "   jokeId                                           jokeText  userId  rating\n",
       "0       5  Q.\\tWhat's O. J. Simpson's Internet address? \\...       1   0.219\n",
       "1       5  Q.\\tWhat's O. J. Simpson's Internet address? \\...       2  -9.688\n",
       "2       5  Q.\\tWhat's O. J. Simpson's Internet address? \\...       3  -9.844\n",
       "3       5  Q.\\tWhat's O. J. Simpson's Internet address? \\...       4  -5.812\n",
       "4       5  Q.\\tWhat's O. J. Simpson's Internet address? \\...       5   6.906"
      ]
     },
     "execution_count": 12,
     "metadata": {},
     "output_type": "execute_result"
    }
   ],
   "source": [
    "df.head()"
   ]
  },
  {
   "cell_type": "markdown",
   "metadata": {},
   "source": [
    "### 2.3| Data Visualisation"
   ]
  },
  {
   "cell_type": "code",
   "execution_count": 13,
   "metadata": {},
   "outputs": [
    {
     "data": {
      "image/png": "[encoded data removed]",
      "text/plain": [
       "<Figure size 1000x600 with 1 Axes>"
      ]
     },
     "metadata": {},
     "output_type": "display_data"
    }
   ],
   "source": [
    "# Histogram\n",
    "plt.figure(figsize=(10, 6))\n",
    "plt.hist(df['rating'], bins=50, color='skyblue', edgecolor='black', alpha=0.7)\n",
    "\n",
    "# Adding mean and median lines\n",
    "mean_rating = np.mean(df['rating'])\n",
    "median_rating = np.median(df['rating'])\n",
    "plt.axvline(mean_rating, color='red', linestyle='dashed', linewidth=1.5, label=f'Mean: {mean_rating:.2f}')\n",
    "plt.axvline(median_rating, color='green', linestyle='dashed', linewidth=1.5, label=f'Median: {median_rating:.2f}')\n",
    "\n",
    "# Labels and title\n",
    "plt.xlabel('Rating', fontsize=12)\n",
    "plt.ylabel('Number of Ratings', fontsize=12)\n",
    "plt.title('Distribution of Ratings', fontsize=14)\n",
    "\n",
    "# Adding grid and legend\n",
    "plt.grid(axis='y', linestyle='--', alpha=0.7)\n",
    "plt.legend(loc='upper right', fontsize=10)\n",
    "\n",
    "# Show the plot\n",
    "plt.tight_layout()\n",
    "plt.show()\n"
   ]
  },
  {
   "cell_type": "markdown",
   "metadata": {},
   "source": [
    "The histogram above shows how individual joke ratings are distributed across the full rating scale from -10 to 10. Each bar represents the number of ratings that fall within a specific score range. The mean rating is 1.62 of the dataset."
   ]
  },
  {
   "cell_type": "code",
   "execution_count": null,
   "metadata": {},
   "outputs": [
    {
     "data": {
      "image/png": "[encoded data removed]",
      "text/plain": [
       "<Figure size 640x480 with 1 Axes>"
      ]
     },
     "metadata": {},
     "output_type": "display_data"
    }
   ],
   "source": [
    "# Calculating the average rating given by each user\n",
    "average_user_ratings = df.groupby(\"userId\")[\"rating\"].mean().reset_index()\n",
    "\n",
    "# Visualise the distribution of user ratings\n",
    "sns.histplot(average_user_ratings[\"rating\"], bins=30, kde=True, color=\"skyblue\")\n",
    "plt.title(\"Distribution of User Ratings\")\n",
    "plt.xlabel(\"Average Rating\")\n",
    "plt.ylabel(\"Number of Users\")\n",
    "plt.show()"
   ]
  },
  {
   "cell_type": "markdown",
   "metadata": {},
   "source": [
    "This histogram shows the distribution of average ratings per user in the dataset. We can see a normal (bell-shaped) distribution, centered around 1.5, which aligns wit the earlier observed mean rating."
   ]
  },
  {
   "cell_type": "code",
   "execution_count": null,
   "metadata": {},
   "outputs": [
    {
     "data": {
      "image/png": "[encoded data removed]",
      "text/plain": [
       "<Figure size 1200x600 with 1 Axes>"
      ]
     },
     "metadata": {},
     "output_type": "display_data"
    }
   ],
   "source": [
    "# Calculating average rating per joke\n",
    "average_ratings = df.groupby('jokeId')['rating'].mean()\n",
    "\n",
    "# Bar chart\n",
    "plt.figure(figsize=(12, 6))\n",
    "plt.bar(average_ratings.index, average_ratings.values, color='lightblue', edgecolor='black', alpha=0.8)\n",
    "plt.xlabel('Joke ID', fontsize=12)\n",
    "plt.ylabel('Average Rating', fontsize=12)\n",
    "plt.title('Average Rating per Joke', fontsize=14)\n",
    "plt.xticks(rotation=45, fontsize=10)\n",
    "plt.axhline(y=average_ratings.mean(), color='red', linestyle='--', label=f'Overall Mean Rating: {average_ratings.mean():.2f}')\n",
    "plt.legend(fontsize=10)\n",
    "plt.grid(axis='y', linestyle='--', alpha=0.7)\n",
    "plt.tight_layout()\n",
    "plt.show()\n"
   ]
  },
  {
   "cell_type": "markdown",
   "metadata": {},
   "source": [
    "This bar plot shows the average rating received by each joke, sorted by joke ID on the x-axis. The red dashed line represents the overall average rating across all jokes, which is 1.64."
   ]
  },
  {
   "cell_type": "code",
   "execution_count": null,
   "metadata": {},
   "outputs": [
    {
     "data": {
      "image/png": "[encoded data removed]",
      "text/plain": [
       "<Figure size 1200x600 with 1 Axes>"
      ]
     },
     "metadata": {},
     "output_type": "display_data"
    }
   ],
   "source": [
    "\n",
    "# Calculating number of ratings per joke\n",
    "joke_popularity = df['jokeId'].value_counts()\n",
    "\n",
    "# Bar chart\n",
    "plt.figure(figsize=(12, 6))\n",
    "plt.bar(joke_popularity.index, joke_popularity.values, color='lightcoral', edgecolor='black', alpha=0.8)\n",
    "plt.xlabel('Joke ID', fontsize=12)\n",
    "plt.ylabel('Number of Ratings', fontsize=12)\n",
    "plt.title('Joke Popularity: Number of Ratings per Joke', fontsize=14)\n",
    "plt.xticks(rotation=45, fontsize=10)\n",
    "plt.tight_layout()\n",
    "plt.grid(axis='y', linestyle='--', alpha=0.7)\n",
    "plt.show()"
   ]
  },
  {
   "cell_type": "code",
   "execution_count": 16,
   "metadata": {},
   "outputs": [
    {
     "name": "stderr",
     "output_type": "stream",
     "text": [
      "C:\\Users\\Stan\\AppData\\Local\\Temp\\ipykernel_8740\\3028576344.py:1: FutureWarning: The default value of numeric_only in DataFrame.corr is deprecated. In a future version, it will default to False. Select only valid columns or specify the value of numeric_only to silence this warning.\n",
      "  sns.heatmap(df.corr(), annot = True)\n"
     ]
    },
    {
     "data": {
      "text/plain": [
       "<Axes: >"
      ]
     },
     "execution_count": 16,
     "metadata": {},
     "output_type": "execute_result"
    },
    {
     "data": {
      "image/png": "[encoded data removed]",
      "text/plain": [
       "<Figure size 640x480 with 2 Axes>"
      ]
     },
     "metadata": {},
     "output_type": "display_data"
    }
   ],
   "source": [
    "sns.heatmap(df.corr(), annot = True)"
   ]
  },
  {
   "cell_type": "code",
   "execution_count": null,
   "metadata": {},
   "outputs": [
    {
     "data": {
      "image/png": "[encoded data removed]",
      "text/plain": [
       "<Figure size 1200x600 with 1 Axes>"
      ]
     },
     "metadata": {},
     "output_type": "display_data"
    }
   ],
   "source": [
    "# Calculating average rating per joke\n",
    "top_jokes = df.groupby(\"jokeId\")[\"rating\"].mean().reset_index()\n",
    "\n",
    "# Sort by rating and select top 10\n",
    "top_jokes = top_jokes.sort_values(by=\"rating\", ascending=False).head(10)\n",
    "\n",
    "# Plot\n",
    "plt.figure(figsize=(12,6))\n",
    "plt.barh(top_jokes[\"jokeId\"].astype(str), top_jokes[\"rating\"], color=\"skyblue\")\n",
    "plt.xlabel(\"Average Rating\")\n",
    "plt.ylabel(\"Joke ID\")\n",
    "plt.title(\"Top 10 Jokes by Rating\")\n",
    "plt.gca().invert_yaxis()\n",
    "plt.show()"
   ]
  },
  {
   "cell_type": "markdown",
   "metadata": {},
   "source": [
    "Out of the graph we can conclude that joke 53 has the highest average rating. Below is the joke shown."
   ]
  },
  {
   "cell_type": "code",
   "execution_count": 18,
   "metadata": {},
   "outputs": [
    {
     "name": "stdout",
     "output_type": "stream",
     "text": [
      "One Sunday morning William burst into the living room and said,\n",
      "\"Dad! Mom! I have some great news for you! I am getting married\n",
      "to the most beautiful girl in town. She lives a block away and\n",
      "her name is Susan.\"\n",
      "After dinner, William's dad took him aside. \"Son, I have to talk\n",
      "with you. Your mother and I have been married 30 years.. She's a\n",
      "wonderful wife but she has never offered much excitement in the\n",
      "bedroom, so I used to fool around with women a lot. Susan is\n",
      "actually your half-sister, and I'm afraid you can't marry her.\"\n",
      "William was heart-broken. After eight months he eventually\n",
      "started dating girls again. A year later he came home and very\n",
      "proudly announced, \"Dianne said yes! We're getting married in\n",
      "June.\"\n",
      "Again his father insisted on another private conversation and\n",
      "broke the sad news. \"Dianne is your half-sister too, William. I'm\n",
      "awfully sorry about this.\"\n",
      "William was furious! He finally decided to go to his mother with\n",
      "the news.\n",
      "\"Dad has done so much harm.. I guess I'm never going to get\n",
      "married,\"  he complained. \"Every time I fall in love, Dad tells\n",
      "me the girl is my half-sister.\"\n",
      "His mother just shook her head. \"Don't pay any attention to what\n",
      "he says, dear. He's not really your father.\"\n",
      "\n"
     ]
    }
   ],
   "source": [
    "joke_text = df.loc[df['jokeId'] == 53, 'jokeText'].iloc[0]\n",
    "print(joke_text)\n"
   ]
  },
  {
   "cell_type": "markdown",
   "metadata": {},
   "source": [
    "# 3| Model Training and Evaluation\n",
    "In this chapter, we apply collaborative filtering techniques to build a recommendation system using the Jester dataset. The focus is on evaluating the performance of two popular algorithms: K-Nearest Neighbors (KNN) and Singular Value Decomposition (SVD).\n",
    "\n",
    "To avoid overfitting, the dataset is first splited into training, validation, and testing sets. Two types of implementations were used. A manual KNN and a KNN and SVD with the surprise package. Each model is trained in the training sets and evaluated using the RMSE."
   ]
  },
  {
   "cell_type": "code",
   "execution_count": null,
   "metadata": {},
   "outputs": [
    {
     "name": "stdout",
     "output_type": "stream",
     "text": [
      "Training set size: 1056863\n",
      "Validation set size: 352288\n",
      "Testing set size: 352288\n"
     ]
    }
   ],
   "source": [
    "# Split 80% train, 20% test\n",
    "train_data, test_data = train_test_split(df, test_size=0.2, random_state=42)\n",
    "\n",
    "# Split: 75% of train_data for training, 25% for validation (which is 20% overall)\n",
    "train_data, val_data = train_test_split(train_data, test_size=0.25, random_state=42)\n",
    "\n",
    "# Split sizes\n",
    "print(f\"Training set size: {len(train_data)}\")\n",
    "print(f\"Validation set size: {len(val_data)}\")\n",
    "print(f\"Testing set size: {len(test_data)}\")\n"
   ]
  },
  {
   "cell_type": "code",
   "execution_count": 20,
   "metadata": {},
   "outputs": [],
   "source": [
    "df_matrix = df.pivot_table(index='userId', columns='jokeId', values='rating').fillna(0)\n",
    "\n",
    "# Convert each split into user-item matrices\n",
    "train_matrix = train_data.pivot(index=\"userId\", columns=\"jokeId\", values=\"rating\").fillna(0)\n",
    "sparse_train_matrix = csr_matrix(train_matrix)\n",
    "\n",
    "val_matrix = val_data.pivot(index=\"userId\", columns=\"jokeId\", values=\"rating\").fillna(0)\n",
    "sparse_val_matrix = csr_matrix(val_matrix)\n",
    "\n",
    "test_matrix = test_data.pivot(index=\"userId\", columns=\"jokeId\", values=\"rating\").fillna(0)\n",
    "sparse_test_matrix = csr_matrix(test_matrix)\n"
   ]
  },
  {
   "cell_type": "markdown",
   "metadata": {},
   "source": [
    "After splitting the dataset, the data is transformed into a user-item matrix format. Each row in the matrix represents a user, and each column represents a joke. The values in the matrix are the corresponding ratings. This format is usefull for collaborative filtering algorithms like manual KNN, which rely on distance-based comparisons between user rating vectors."
   ]
  },
  {
   "cell_type": "code",
   "execution_count": 21,
   "metadata": {},
   "outputs": [
    {
     "data": {
      "text/html": [
       "<div>\n",
       "<style scoped>\n",
       "    .dataframe tbody tr th:only-of-type {\n",
       "        vertical-align: middle;\n",
       "    }\n",
       "\n",
       "    .dataframe tbody tr th {\n",
       "        vertical-align: top;\n",
       "    }\n",
       "\n",
       "    .dataframe thead th {\n",
       "        text-align: right;\n",
       "    }\n",
       "</style>\n",
       "<table border=\"1\" class=\"dataframe\">\n",
       "  <thead>\n",
       "    <tr style=\"text-align: right;\">\n",
       "      <th>jokeId</th>\n",
       "      <th>5</th>\n",
       "      <th>7</th>\n",
       "      <th>8</th>\n",
       "      <th>13</th>\n",
       "      <th>15</th>\n",
       "      <th>16</th>\n",
       "      <th>17</th>\n",
       "      <th>18</th>\n",
       "      <th>19</th>\n",
       "      <th>20</th>\n",
       "      <th>...</th>\n",
       "      <th>141</th>\n",
       "      <th>142</th>\n",
       "      <th>143</th>\n",
       "      <th>144</th>\n",
       "      <th>145</th>\n",
       "      <th>146</th>\n",
       "      <th>147</th>\n",
       "      <th>148</th>\n",
       "      <th>149</th>\n",
       "      <th>150</th>\n",
       "    </tr>\n",
       "    <tr>\n",
       "      <th>userId</th>\n",
       "      <th></th>\n",
       "      <th></th>\n",
       "      <th></th>\n",
       "      <th></th>\n",
       "      <th></th>\n",
       "      <th></th>\n",
       "      <th></th>\n",
       "      <th></th>\n",
       "      <th></th>\n",
       "      <th></th>\n",
       "      <th></th>\n",
       "      <th></th>\n",
       "      <th></th>\n",
       "      <th></th>\n",
       "      <th></th>\n",
       "      <th></th>\n",
       "      <th></th>\n",
       "      <th></th>\n",
       "      <th></th>\n",
       "      <th></th>\n",
       "      <th></th>\n",
       "    </tr>\n",
       "  </thead>\n",
       "  <tbody>\n",
       "    <tr>\n",
       "      <th>1</th>\n",
       "      <td>0.219</td>\n",
       "      <td>-9.281</td>\n",
       "      <td>-9.281</td>\n",
       "      <td>-6.781</td>\n",
       "      <td>0.875</td>\n",
       "      <td>-9.656</td>\n",
       "      <td>-9.031</td>\n",
       "      <td>-7.469</td>\n",
       "      <td>-8.719</td>\n",
       "      <td>-9.156</td>\n",
       "      <td>...</td>\n",
       "      <td>0.0</td>\n",
       "      <td>0.0</td>\n",
       "      <td>0.0</td>\n",
       "      <td>0.0</td>\n",
       "      <td>0.0</td>\n",
       "      <td>0.0</td>\n",
       "      <td>0.0</td>\n",
       "      <td>0.0</td>\n",
       "      <td>0.0</td>\n",
       "      <td>0.0</td>\n",
       "    </tr>\n",
       "    <tr>\n",
       "      <th>2</th>\n",
       "      <td>-9.688</td>\n",
       "      <td>9.938</td>\n",
       "      <td>9.531</td>\n",
       "      <td>9.938</td>\n",
       "      <td>0.406</td>\n",
       "      <td>3.719</td>\n",
       "      <td>9.656</td>\n",
       "      <td>-2.688</td>\n",
       "      <td>-9.562</td>\n",
       "      <td>-9.125</td>\n",
       "      <td>...</td>\n",
       "      <td>0.0</td>\n",
       "      <td>0.0</td>\n",
       "      <td>0.0</td>\n",
       "      <td>0.0</td>\n",
       "      <td>0.0</td>\n",
       "      <td>0.0</td>\n",
       "      <td>0.0</td>\n",
       "      <td>0.0</td>\n",
       "      <td>0.0</td>\n",
       "      <td>0.0</td>\n",
       "    </tr>\n",
       "    <tr>\n",
       "      <th>3</th>\n",
       "      <td>-9.844</td>\n",
       "      <td>-9.844</td>\n",
       "      <td>-7.219</td>\n",
       "      <td>-2.031</td>\n",
       "      <td>-9.938</td>\n",
       "      <td>-9.969</td>\n",
       "      <td>-9.875</td>\n",
       "      <td>-9.812</td>\n",
       "      <td>-9.781</td>\n",
       "      <td>-6.844</td>\n",
       "      <td>...</td>\n",
       "      <td>0.0</td>\n",
       "      <td>0.0</td>\n",
       "      <td>0.0</td>\n",
       "      <td>0.0</td>\n",
       "      <td>0.0</td>\n",
       "      <td>0.0</td>\n",
       "      <td>0.0</td>\n",
       "      <td>0.0</td>\n",
       "      <td>0.0</td>\n",
       "      <td>0.0</td>\n",
       "    </tr>\n",
       "    <tr>\n",
       "      <th>4</th>\n",
       "      <td>-5.812</td>\n",
       "      <td>-4.500</td>\n",
       "      <td>-4.906</td>\n",
       "      <td>0.000</td>\n",
       "      <td>0.000</td>\n",
       "      <td>0.000</td>\n",
       "      <td>0.000</td>\n",
       "      <td>0.000</td>\n",
       "      <td>0.000</td>\n",
       "      <td>0.000</td>\n",
       "      <td>...</td>\n",
       "      <td>0.0</td>\n",
       "      <td>0.0</td>\n",
       "      <td>0.0</td>\n",
       "      <td>0.0</td>\n",
       "      <td>0.0</td>\n",
       "      <td>0.0</td>\n",
       "      <td>0.0</td>\n",
       "      <td>0.0</td>\n",
       "      <td>0.0</td>\n",
       "      <td>0.0</td>\n",
       "    </tr>\n",
       "    <tr>\n",
       "      <th>5</th>\n",
       "      <td>6.906</td>\n",
       "      <td>4.750</td>\n",
       "      <td>-5.906</td>\n",
       "      <td>-0.406</td>\n",
       "      <td>-4.031</td>\n",
       "      <td>3.875</td>\n",
       "      <td>6.219</td>\n",
       "      <td>5.656</td>\n",
       "      <td>6.094</td>\n",
       "      <td>5.406</td>\n",
       "      <td>...</td>\n",
       "      <td>0.0</td>\n",
       "      <td>0.0</td>\n",
       "      <td>0.0</td>\n",
       "      <td>0.0</td>\n",
       "      <td>0.0</td>\n",
       "      <td>0.0</td>\n",
       "      <td>0.0</td>\n",
       "      <td>0.0</td>\n",
       "      <td>0.0</td>\n",
       "      <td>0.0</td>\n",
       "    </tr>\n",
       "  </tbody>\n",
       "</table>\n",
       "<p>5 rows × 140 columns</p>\n",
       "</div>"
      ],
      "text/plain": [
       "jokeId    5      7      8      13     15     16     17     18     19     20   \\\n",
       "userId                                                                         \n",
       "1       0.219 -9.281 -9.281 -6.781  0.875 -9.656 -9.031 -7.469 -8.719 -9.156   \n",
       "2      -9.688  9.938  9.531  9.938  0.406  3.719  9.656 -2.688 -9.562 -9.125   \n",
       "3      -9.844 -9.844 -7.219 -2.031 -9.938 -9.969 -9.875 -9.812 -9.781 -6.844   \n",
       "4      -5.812 -4.500 -4.906  0.000  0.000  0.000  0.000  0.000  0.000  0.000   \n",
       "5       6.906  4.750 -5.906 -0.406 -4.031  3.875  6.219  5.656  6.094  5.406   \n",
       "\n",
       "jokeId  ...  141  142  143  144  145  146  147  148  149  150  \n",
       "userId  ...                                                    \n",
       "1       ...  0.0  0.0  0.0  0.0  0.0  0.0  0.0  0.0  0.0  0.0  \n",
       "2       ...  0.0  0.0  0.0  0.0  0.0  0.0  0.0  0.0  0.0  0.0  \n",
       "3       ...  0.0  0.0  0.0  0.0  0.0  0.0  0.0  0.0  0.0  0.0  \n",
       "4       ...  0.0  0.0  0.0  0.0  0.0  0.0  0.0  0.0  0.0  0.0  \n",
       "5       ...  0.0  0.0  0.0  0.0  0.0  0.0  0.0  0.0  0.0  0.0  \n",
       "\n",
       "[5 rows x 140 columns]"
      ]
     },
     "execution_count": 21,
     "metadata": {},
     "output_type": "execute_result"
    }
   ],
   "source": [
    "df_matrix.head()"
   ]
  },
  {
   "cell_type": "markdown",
   "metadata": {},
   "source": [
    "### 3.1| Manual K-Nearest Neighbors"
   ]
  },
  {
   "cell_type": "markdown",
   "metadata": {},
   "source": [
    "In this section a manual implementation of K-Nearest Neighbors (KNN) is performed.\n",
    "\n",
    "Firstly we identified users with similar rating behavior to the target user. In this case the target user is user ID 10. Using cosine similarity, we measure how similar user 10 rating vector is compared to all other users. The 15 most similar users are extracted.  "
   ]
  },
  {
   "cell_type": "code",
   "execution_count": 121,
   "metadata": {},
   "outputs": [
    {
     "name": "stdout",
     "output_type": "stream",
     "text": [
      "Top 15 similar users to User 10:\n",
      "    User ID  Similarity Score\n",
      "14    19225          0.733213\n",
      "13     2645          0.723157\n",
      "12     3199          0.716134\n",
      "11    31324          0.709409\n",
      "10    42240          0.697973\n",
      "9     22402          0.687141\n",
      "8       437          0.676853\n",
      "7      9196          0.654506\n",
      "6     36058          0.647833\n",
      "5     17285          0.628938\n",
      "4     20142          0.627885\n",
      "3     25834          0.627555\n",
      "2      7488          0.625524\n",
      "1      8846          0.625172\n",
      "0      8559          0.615969\n"
     ]
    }
   ],
   "source": [
    "#   Parameters\n",
    "target_user = 10 \n",
    "num_neighbors = 15 # Number of neighbors\n",
    "\n",
    "# Compute cosine similarity between target user and all other users\n",
    "similarities = cosine_similarity(sparse_train_matrix.getrow(target_user), sparse_train_matrix).ravel()\n",
    "\n",
    "# Find the top similar users (excluding the user itself)\n",
    "top_similar_users = np.argsort(similarities)[-num_neighbors-1:-1]\n",
    "top_similar_values = similarities[top_similar_users]\n",
    "\n",
    "# Store results in a DataFrame\n",
    "similar_users_df = pd.DataFrame({\"User ID\": top_similar_users, \"Similarity Score\": top_similar_values})\n",
    "similar_users_df = similar_users_df.sort_values(by=\"Similarity Score\", ascending=False)\n",
    "\n",
    "print(f\"Top {num_neighbors} similar users to User {target_user}:\")\n",
    "print(similar_users_df)\n"
   ]
  },
  {
   "cell_type": "markdown",
   "metadata": {},
   "source": [
    "After identifying the top similar users, the code below generate joke recommendations for the target user based on their neighbors' preferences. First, we collect all jokes that the similar users have rated. Then, we exclude jokes the target user has already seen, to avoid suggesting duplicates. For the remaining jokes, we compute the average rating from the similar users, assuming that higher-rated jokes are more likely to be enjoyed.\n",
    "Finally, the top 10 jokes with the highest average rating are shown with the actual joke text."
   ]
  },
  {
   "cell_type": "code",
   "execution_count": null,
   "metadata": {},
   "outputs": [
    {
     "name": "stdout",
     "output_type": "stream",
     "text": [
      "Top 10 Recommended Jokes for User 10\n",
      "   jokeId    rating                                           jokeText\n",
      "0      39  8.844000  What is the difference between men and women:\\...\n",
      "1     138  8.000000  WASHINGTON (Reuters) - A tragic fire on Monday...\n",
      "2      51  6.875000  Did you hear that Clinton has announced there ...\n",
      "3     148  6.489333  Recently a teacher, a garbage collector, and a...\n",
      "4     117  6.144250  A man joins a big corporate empire as a traine...\n",
      "5     143  6.049800  A preist, a 12-year-old kid, and the smartest ...\n",
      "6     125  5.875000  An American tourist goes into a restaurant in ...\n",
      "7     136  5.844000  A man went to apply for a job. After filling o...\n",
      "8      40  5.750000  How many Irishmen does it take to change a lig...\n",
      "9      47  5.645833  There was an engineer who had an exceptional g...\n"
     ]
    }
   ],
   "source": [
    "# Get all jokes rated by similar users\n",
    "similar_user_ids = similar_users_df[\"User ID\"].tolist()\n",
    "\n",
    "# Retrieve ratings given by similar users\n",
    "similar_users_jokes = train_data[train_data[\"userId\"].isin(similar_user_ids)]\n",
    "\n",
    "# Filter out jokes the target user has already rated\n",
    "target_user_jokes = train_data[train_data[\"userId\"] == target_user][\"jokeId\"].tolist()\n",
    "filtered_jokes = similar_users_jokes[~similar_users_jokes[\"jokeId\"].isin(target_user_jokes)]\n",
    "\n",
    "# Average rating for each joke from similar users\n",
    "joke_recommendations = filtered_jokes.groupby(\"jokeId\")[\"rating\"].mean().reset_index()\n",
    "\n",
    "# Sort by highest average rating\n",
    "top_jokes = joke_recommendations.sort_values(by=\"rating\", ascending=False).head(10)\n",
    "\n",
    "# Merge with joke text\n",
    "top_jokes = top_jokes.merge(items_df, on=\"jokeId\")[[\"jokeId\", \"rating\", \"jokeText\"]]\n",
    "\n",
    "print(\"Top 10 Recommended Jokes for User\", target_user)\n",
    "print(top_jokes)\n"
   ]
  },
  {
   "cell_type": "markdown",
   "metadata": {},
   "source": [
    "Although the KNN process was already performed manually, defining the function below adds structure and flexibility to the workflow. This function allows us to easily retrieve the most similar users for any given target user, without rewriting the similarity logic each time."
   ]
  },
  {
   "cell_type": "code",
   "execution_count": 133,
   "metadata": {},
   "outputs": [
    {
     "name": "stdout",
     "output_type": "stream",
     "text": [
      "Top 15 similar users to User 10:\n",
      "User Indices: [8559, 8846, 7488, 25834, 20142, 17285, 36058, 9196, 437, 22402, 42240, 31324, 3199, 2645, 19225]\n",
      "Similarity Scores: [0.6159690809601794, 0.6251718685344251, 0.6255239224466109, 0.6275551416628784, 0.6278849263665987, 0.6289378765220011, 0.6478334824719635, 0.6545061493777176, 0.6768527063626528, 0.6871413303972846, 0.6979729160242993, 0.7094092779104018, 0.7161338744396897, 0.7231567454616388, 0.733213338732541]\n"
     ]
    }
   ],
   "source": [
    "def best_neighbours(user_id, train_data, neighbours=15):\n",
    "    \n",
    "    if user_id >= train_data.shape[0]:\n",
    "        print(f\"User {user_id} not found in training data.\")\n",
    "        return [], []\n",
    "\n",
    "    # Compute cosine similarity between target user and all others\n",
    "    similarity_scores = cosine_similarity(train_data.getrow(user_id), train_data).ravel()\n",
    "\n",
    "    # Get indices of the most similar users (excluding the target user)\n",
    "    top_users = np.argsort(similarity_scores)[-neighbours-1:-1]\n",
    "    top_similarities = similarity_scores[top_users]\n",
    "\n",
    "    return top_users.tolist(), top_similarities.tolist()\n",
    "\n",
    "# Similar user finder\n",
    "target_user = 10\n",
    "neighbors, similarities = best_neighbours(target_user, sparse_train_matrix, neighbours=15)\n",
    "\n",
    "print(f\"Top {len(neighbors)} similar users to User {target_user}:\")\n",
    "print(\"User Indices:\", neighbors)\n",
    "print(\"Similarity Scores:\", similarities)\n"
   ]
  },
  {
   "cell_type": "markdown",
   "metadata": {},
   "source": [
    "The function returned the 15 users most similar to User 10, based on their joke rating patterns. The user indices represent these similar users in the training data, and the similarity scores show how closely each user's preferences align with User 10."
   ]
  },
  {
   "cell_type": "code",
   "execution_count": 132,
   "metadata": {},
   "outputs": [
    {
     "name": "stdout",
     "output_type": "stream",
     "text": [
      "KNN Model RMSE: 4.4874\n"
     ]
    }
   ],
   "source": [
    "# Ensure 'jokeId' is not the index in test_data for proper merging\n",
    "test_ratings = test_data.merge(top_jokes, on=\"jokeId\", how=\"left\", suffixes=(\"_actual\", \"_pred\"))\n",
    "\n",
    "# Drop rows where there are no predicted ratings\n",
    "test_ratings = test_ratings.dropna(subset=[\"rating_pred\"])\n",
    "\n",
    "# RMSE\n",
    "rmse = np.sqrt(mean_squared_error(test_ratings[\"rating_actual\"], test_ratings[\"rating_pred\"]))\n",
    "\n",
    "print(f\"KNN Model RMSE: {rmse:.4f}\")\n"
   ]
  },
  {
   "cell_type": "markdown",
   "metadata": {},
   "source": [
    "The manual KNN model produced an RMSE of 4.4874, which indicates that on average, the predicted ratings deviate from the actual ratings by approximately 4.49 points. "
   ]
  },
  {
   "cell_type": "markdown",
   "metadata": {},
   "source": [
    "#### 3.1.1| Hyperparameter Tunning"
   ]
  },
  {
   "cell_type": "markdown",
   "metadata": {},
   "source": [
    "To improve the performance of the KNN recommendation model, hyperparameter tuning is performed.\n",
    "\n",
    "To improve the accuracy of the manual KNN model, we perform a manual hyperparameter tuning process, focusing on the parameter that is about the number of nearest neighbors. The goal is to find the \"k\" value that results in the lowest RMSE."
   ]
  },
  {
   "cell_type": "code",
   "execution_count": 134,
   "metadata": {},
   "outputs": [],
   "source": [
    "# Range of k values to test\n",
    "k_values = [5, 10, 15, 20, 25, 30, 35, 40, 45, 50]\n",
    "\n",
    "# Store RMSE scores for each k\n",
    "rmse_scores = {}\n",
    "\n",
    "# Convert sparse validation matrix to dense for RMSE calculation\n",
    "val_matrix_dense = sparse_val_matrix.toarray()\n",
    "test_matrix_dense = sparse_test_matrix.toarray()"
   ]
  },
  {
   "cell_type": "code",
   "execution_count": 135,
   "metadata": {},
   "outputs": [
    {
     "name": "stdout",
     "output_type": "stream",
     "text": [
      "k=5 > RMSE: 6.0540\n",
      "k=10 > RMSE: 5.9983\n",
      "k=15 > RMSE: 5.8708\n",
      "k=20 > RMSE: 5.7794\n",
      "k=25 > RMSE: 5.6539\n",
      "k=30 > RMSE: 5.6017\n",
      "k=35 > RMSE: 5.5007\n",
      "k=40 > RMSE: 5.4338\n",
      "k=45 > RMSE: 5.4170\n",
      "k=50 > RMSE: 5.4256\n",
      "Optimal k value: 45 with RMSE: 5.4170\n"
     ]
    }
   ],
   "source": [
    "# Reduce number of users for validation\n",
    "num_users_sample = 500  \n",
    "sampled_users = np.random.choice(val_data[\"userId\"].unique(), size=num_users_sample, replace=False)\n",
    "\n",
    "# Create a mapping from userId to row index in sparse matrix\n",
    "user_to_index = {user_id: idx for idx, user_id in enumerate(train_matrix.index)}\n",
    "\n",
    "# Store RMSE scores for each k\n",
    "rmse_scores = {}\n",
    "\n",
    "for k in k_values:\n",
    "    # Train KNN\n",
    "    knn_model = NearestNeighbors(n_neighbors=max(k_values), metric=\"cosine\", algorithm=\"brute\")\n",
    "    knn_model.fit(sparse_train_matrix)\n",
    "\n",
    "    predictions = []\n",
    "    actual_ratings = []\n",
    "\n",
    "    for user_id in sampled_users:\n",
    "        if user_id not in user_to_index:\n",
    "            continue  # Skip users not found in training matrix\n",
    "\n",
    "        user_idx = user_to_index[user_id]  # Get row index in sparse matrix\n",
    "\n",
    "        distances, indices = knn_model.kneighbors(sparse_train_matrix.getrow(user_idx), n_neighbors=max(k_values))\n",
    "        \n",
    "        # Select only k nearest neighbors\n",
    "        similar_users = indices[0][:k]\n",
    "        neighbor_ratings = (\n",
    "            train_data[train_data[\"userId\"].isin(similar_users)]\n",
    "            .groupby(\"jokeId\")[\"rating\"]\n",
    "            .mean()\n",
    "        )\n",
    "\n",
    "        target_user_jokes = val_data[val_data[\"userId\"] == user_id][\"jokeId\"]\n",
    "        pred_ratings = neighbor_ratings.reindex(target_user_jokes).fillna(0)\n",
    "\n",
    "        actual_ratings.extend(val_data[val_data[\"userId\"] == user_id][\"rating\"].tolist())\n",
    "        predictions.extend(pred_ratings.tolist())\n",
    "\n",
    "    # Compute RMSE for this k\n",
    "    rmse = np.sqrt(mean_squared_error(actual_ratings, predictions))\n",
    "    rmse_scores[k] = rmse\n",
    "    print(f\"k={k} > RMSE: {rmse:.4f}\")\n",
    "\n",
    "# Select the best k value\n",
    "best_k = min(rmse_scores, key=rmse_scores.get)\n",
    "print(f\"Optimal k value: {best_k} with RMSE: {rmse_scores[best_k]:.4f}\")\n"
   ]
  },
  {
   "cell_type": "markdown",
   "metadata": {},
   "source": [
    "For each value between 5 and 50, the model predicted joke ratings for a random sample of 500 users from the validation set. The predicted ratings were then compared to the actual ratings using RMSE as the evaluation metric. The results showed a gradual improvement in RMSE as the number of neighbors increased, indicating that more neighbors helped reduce prediction noise. The optimal value was found at k = 45."
   ]
  },
  {
   "cell_type": "code",
   "execution_count": 136,
   "metadata": {},
   "outputs": [
    {
     "name": "stdout",
     "output_type": "stream",
     "text": [
      "Final KNN Model trained with k=45\n"
     ]
    }
   ],
   "source": [
    "# Train the final KNN model with the best k\n",
    "final_knn_model = NearestNeighbors(n_neighbors=best_k, metric=\"cosine\", algorithm=\"brute\")\n",
    "final_knn_model.fit(sparse_train_matrix)\n",
    "\n",
    "print(f\"Final KNN Model trained with k={best_k}\")\n"
   ]
  },
  {
   "cell_type": "code",
   "execution_count": 137,
   "metadata": {},
   "outputs": [
    {
     "name": "stdout",
     "output_type": "stream",
     "text": [
      "Final KNN Model RMSE on Test Data: 5.4801\n"
     ]
    }
   ],
   "source": [
    "# Generate predictions on test set\n",
    "predictions = []\n",
    "actual_ratings = []\n",
    "\n",
    "for user_id in test_data[\"userId\"].unique():\n",
    "    if user_id not in user_to_index:\n",
    "        continue  # Skip users not found in training matrix\n",
    "\n",
    "    user_idx = user_to_index[user_id]  # Get row index in sparse matrix\n",
    "\n",
    "    distances, indices = final_knn_model.kneighbors(sparse_train_matrix.getrow(user_idx), n_neighbors=best_k)\n",
    "\n",
    "    # Get ratings from similar users\n",
    "    similar_users = indices[0]\n",
    "    neighbor_ratings = (\n",
    "        train_data[train_data[\"userId\"].isin(similar_users)]\n",
    "        .groupby(\"jokeId\")[\"rating\"]\n",
    "        .mean()\n",
    "    )\n",
    "\n",
    "    target_user_jokes = test_data[test_data[\"userId\"] == user_id][\"jokeId\"]\n",
    "    pred_ratings = neighbor_ratings.reindex(target_user_jokes).fillna(0)\n",
    "\n",
    "    actual_ratings.extend(test_data[test_data[\"userId\"] == user_id][\"rating\"].tolist())\n",
    "    predictions.extend(pred_ratings.tolist())\n",
    "\n",
    "# Compute RMSE on test data\n",
    "final_rmse = np.sqrt(mean_squared_error(actual_ratings, predictions))\n",
    "print(f\"Final KNN Model RMSE on Test Data: {final_rmse:.4f}\")\n"
   ]
  },
  {
   "cell_type": "markdown",
   "metadata": {},
   "source": [
    "#### 3.1.1| Recommending jokes"
   ]
  },
  {
   "cell_type": "markdown",
   "metadata": {},
   "source": [
    "With the optimal value of k identified, the final KNN model was trained using the complete training set. The model was then evaluated on the test set, which had not been seen during training or validation. For each user in the test set, the model dentified the k = 45 most similar users based on cosine similarity."
   ]
  },
  {
   "cell_type": "code",
   "execution_count": 74,
   "metadata": {},
   "outputs": [
    {
     "name": "stdout",
     "output_type": "stream",
     "text": [
      "\n",
      " Recommended Jokes for User 10\n",
      " jokeId   rating                                                                                                                                                                                                                                                                                                                                                                                                                                                                                                                                                                                                                                                                                                                                                                                                                 jokeText\n",
      "      5 6.219000                                                                                                                                                                                                                                                                                                                                                                                                                                                                                                                                                                                                                                                                                                                      Q.\\tWhat's O. J. Simpson's Internet address? \\nA.\\tSlash, slash, backslash, slash, slash, escape.\\n\n",
      "     27 6.062000                                                                                                                                                                                                                                                                                                                                                                                                                                                                              Clinton returns from a vacation in Arkansas and walks down  the\\nsteps of Air Force One with two pigs under his arms.  At the bottom\\nof the steps, he says  to the honor guardsman, \"These are genuine\\nArkansas Razor-Back Hogs.  I got this one for Chelsea and this one for\\nHillary.\"  \\n\\nThe guardsman replies, \"Nice trade, Sir.\"\\n\n",
      "     61 5.719000                                                                                                                                            During a recent publicity outing, Hillary sneaked off to visit a\\nfortune teller of some local repute.  In a dark and hazy room, peering\\ninto a crystal ball, the mystic delivered grave news.\\n\"There's no easy way to say this, so I'll just be blunt: Prepare\\nyourself to be a widow.  Your husband will die a violent and horrible\\ndeath this year.\"\\nVisibly shaken, Hillary stared at the woman's lined face, then at \\nthe single flickering candle, then down at her hands.  She took a few \\ndeep breaths to compose herself.  She simply had to know.  She met the\\nfortune teller's gaze, steadied her voice, and asked her question.\\n\"Will I be acquitted?\"\\n\n",
      "    145 5.593667                                                                                                                                                                                                                                                                                                                                                                                                   A blonde, brunette, and a red head are all lined up to be shot to death by a firing squad. The brunette shouts, \"Tornado!\" and the riflemen turn around to see the tornado. It isn't there, and the brunette uses that time to escape. The red head yells, \"Lightning!\" and the riflemen again turn to see the disaster, yet there is no disaster and the red head escapes. The blonde yells, \"Fire!\" The riflemen do.\n",
      "    125 5.568600                                                                                                                                                                                                               An American tourist goes into a restaurant in Spain and orders the specialty of the house. When his dinner arrives, he asks the waiter what it is. \"These, senor,\" replied the waiter in broken English, \"are the testicles of the bull killed in the ring today.\" The tourist swallowed hard but tasted the dish and thought it was delicious. So he comes back the next evening and orders the same item. When it is served, he says to the waiter, \"These testicles...are much smaller than the ones I had last night.\" \"Yes, senor,\" replied the waiter, \"You see...the bull, he does not always lose.\n",
      "     29 5.487600                                     An old Scotsmen is sitting with a younger Scottish gentleman and says the boy. \\n\"Ah, lad look out that window. You see that stone wall there, I built it with\\nme own bare hands, placed every stone meself.  But do they call me MacGregor the\\nwall builder? No! \\n\\nHe Takes a few sips of his beer then says, \"Aye, and look out on that lake and \\neye that beautiful pier. I built it meself, laid every board and hammered each\\nnail but do they call me MacGregor the pier builder? No! \\n\\nHe continues...\"And lad, you see that road? That too I build with me own bare \\nhands. Laid every inch of pavement meself, but do they call MacGregor the road\\nbuilder? No!\"\\n\\nAgain he returns to his beer for a few sips, then says, \\n\"Agh, but you screw one sheep...\"\\n\n",
      "    114 5.205429 Sherlock Holmes and Dr. Watson go on a camping trip, set up their tent, and fall asleep. Some hours later, Holmes wakes his faithful friend. \"Watson, look up at the sky and tell me what you see.\" Watson replies, \"I see millions of stars.\" \"What does that tell you?\" Watson ponders for a minute. \"Astronomically speaking, it tells me that there are millions of galaxies and potentially billions of planets. Astrologically, it tells me that Saturn is in Leo. Timewise, it appears to be approximately a quarter past three. Theologically, it's evident the Lord is all-powerful and we are small and insignificant. Meteorologically, it seems we will have a beautiful day tomorrow. What does it tell you?\" Holmes is silent for a moment, then speaks. \"Watson, you idiot, someone has stolen our tent.\"\n",
      "    111 4.981200                                                                                                                                                                                                                                   A new business was opening and one of the owner's friends wanted to send him flowers for the occasion. They arrived at the new business site and the owner read the card, \"Rest in Peace.\" The owner was angry and called the florist to complain. After he had told the florist of the obvious mistake and how angry he was, the florist replied, \"Sir, I'm really sorry for the mistake, but rather than getting angry, you should imagine this: somewhere there is a funeral taking place today, and they have flowers with a note saying, 'Congratulations on your new location!'\"\n",
      "    122 4.901000                                                                                                                                                                                                                                                                                             An astronomer, a physicist and a mathematician (it is said) were holidaying in Scotland. Glancing from a train window, they observed a black sheep in the middle of a field. \"How interesting,\" observed the astronomer, \"All Scottish sheep are black!\" To which the physicist responded, \"No, no! Some Scottish sheep are black!\" The mathematician gazed heavenward in supplication, and then intoned, \"In Scotland there exists at least one field, containing at least one sheep, at least one side of which is black.\"\n",
      "    126 4.850000                                                                                                                                                                                                                                                                                                                                       A Briton, a Frenchman and a Russian are viewing a painting of Adam and Eve frolicking in the Garden of Eden. \"Look at their reserve, their calm,\" muses the Brit. \"They must be British.\" \"Nonsense,\" the Frenchman disagrees. \"They're naked, and so beautiful. Clearly, they are French.\" \"No way! They have no clothes and no shelter,\" the Russian points out, \"They have only an apple to eat, and they are being told they live in a paradise. Obviously, they are Russian.\"\n"
     ]
    }
   ],
   "source": [
    "def recommend_jokes(user_id, model, train_matrix, num_recommendations=10):\n",
    "   \n",
    "    if user_id not in user_to_index:\n",
    "        print(\"User not found in training data.\")\n",
    "        return None\n",
    "\n",
    "    user_idx = user_to_index[user_id]\n",
    "\n",
    "    distances, indices = model.kneighbors(train_matrix.getrow(user_idx), n_neighbors=best_k)\n",
    "\n",
    "    similar_users = indices[0]\n",
    "    neighbor_ratings = (\n",
    "        train_data[train_data[\"userId\"].isin(similar_users)]\n",
    "        .groupby(\"jokeId\")[\"rating\"]\n",
    "        .mean()\n",
    "    )\n",
    "\n",
    "    # Remove jokes the user has already rated\n",
    "    user_rated_jokes = train_data[train_data[\"userId\"] == user_id][\"jokeId\"]\n",
    "    recommended_jokes = neighbor_ratings.drop(user_rated_jokes, errors=\"ignore\")\n",
    "\n",
    "    # Sort by highest predicted rating\n",
    "    recommended_jokes = recommended_jokes.sort_values(ascending=False).head(num_recommendations)\n",
    "\n",
    "    # Merge with joke text (if available)\n",
    "    recommended_jokes_df = recommended_jokes.reset_index().merge(items_df, on=\"jokeId\", how=\"left\")\n",
    "\n",
    "    return recommended_jokes_df\n",
    "\n",
    "# Example: Get joke recommendations for a specific user\n",
    "target_user = 10  # Change this to test with different users\n",
    "top_jokes = recommend_jokes(target_user, final_knn_model, sparse_train_matrix)\n",
    "\n",
    "# Display recommendations\n",
    "if top_jokes is not None:\n",
    "    print(f\"\\n Recommended Jokes for User {target_user}\")\n",
    "    print(top_jokes.to_string(index=False))\n"
   ]
  },
  {
   "cell_type": "markdown",
   "metadata": {},
   "source": [
    "Finally, the trained KNN model was used to generate personalised joke recommendations for User 10. Using the recommend_jokes function, the model identified jokes that the user had not previously rated but were highly rated by similar users. The output displays the top 10 recommended jokes along with their average predicted rating and the joke text itself."
   ]
  },
  {
   "cell_type": "markdown",
   "metadata": {},
   "source": [
    "### 3.2| Surprise Package K-Nearest Neighbors\n",
    "After implementing the KNN model manually, this chapter explores how to build a recommendation system using the Surprise library. This is a popular Python toolkit designed specifically for building and analyzing recommender systems. In this section, we will apply KNN with different similarity measures, perform hyperparameter tuning, and evaluate the model's predictive performance."
   ]
  },
  {
   "cell_type": "code",
   "execution_count": 81,
   "metadata": {},
   "outputs": [],
   "source": [
    "reader = Reader(rating_scale=(-10, 10)) \n",
    "data = Dataset.load_from_df(df[['userId', 'jokeId', 'rating']], reader) \n",
    "trainset, testset = train_test_split(data, test_size=0.25, random_state=42)\n"
   ]
  },
  {
   "cell_type": "markdown",
   "metadata": {},
   "source": [
    "To prepare the data for modeling with the Surprise library, the rating data is first loaded using the Reader and Dataset classes from Surprise. The rating_scale was set to match the Jester dataset's range of -10 to 10. After formatting the data, it was split into a training set and a test set."
   ]
  },
  {
   "cell_type": "code",
   "execution_count": null,
   "metadata": {},
   "outputs": [
    {
     "name": "stdout",
     "output_type": "stream",
     "text": [
      "Computing the cosine similarity matrix...\n",
      "Done computing similarity matrix.\n"
     ]
    },
    {
     "data": {
      "text/plain": [
       "<surprise.prediction_algorithms.knns.KNNBasic at 0x1b81a36b130>"
      ]
     },
     "execution_count": 87,
     "metadata": {},
     "output_type": "execute_result"
    }
   ],
   "source": [
    "# Train the KNN model with parameters\n",
    "knn_model = KNNBasic(k=20, sim_options={'name': 'cosine', 'user_based': False}) \n",
    "knn_model.fit(trainset)"
   ]
  },
  {
   "cell_type": "code",
   "execution_count": null,
   "metadata": {},
   "outputs": [
    {
     "name": "stdout",
     "output_type": "stream",
     "text": [
      "RMSE: 4.1965\n"
     ]
    }
   ],
   "source": [
    "# Predict ratings for the test set\n",
    "predictions = knn_model.test(testset)\n",
    "\n",
    "# RMSE\n",
    "rmse_score = accuracy.rmse(predictions)\n"
   ]
  },
  {
   "cell_type": "markdown",
   "metadata": {},
   "source": [
    "After training the KNN model, predictions were generated for the test set, and the model's performance has been evaluated. The resulting RMSE was 4.1965."
   ]
  },
  {
   "cell_type": "markdown",
   "metadata": {},
   "source": [
    "#### 3.2.1| Hyperparameter tunning"
   ]
  },
  {
   "cell_type": "markdown",
   "metadata": {},
   "source": [
    "To improve the performance of the KNN model, hyperparameter tuning was conducted using GridSearchCV from the Surprise library. This process systematically tested various combinations of parameters to identify the configuration that results in the lowest RMSE. The tuning focused on two key elements: the number of neighbors (k), and the similarity measure (cosine or pearson). All models were evaluated using 3-fold cross-validation. After training, the best combination of parameters was selected based on average RMSE."
   ]
  },
  {
   "cell_type": "code",
   "execution_count": null,
   "metadata": {},
   "outputs": [
    {
     "name": "stdout",
     "output_type": "stream",
     "text": [
      "Computing the cosine similarity matrix...\n",
      "Done computing similarity matrix.\n",
      "Computing the cosine similarity matrix...\n",
      "Done computing similarity matrix.\n",
      "Computing the cosine similarity matrix...\n",
      "Done computing similarity matrix.\n",
      "Computing the pearson similarity matrix...\n",
      "Done computing similarity matrix.\n",
      "Computing the pearson similarity matrix...\n",
      "Done computing similarity matrix.\n",
      "Computing the pearson similarity matrix...\n",
      "Done computing similarity matrix.\n",
      "Computing the cosine similarity matrix...\n",
      "Done computing similarity matrix.\n",
      "Computing the cosine similarity matrix...\n",
      "Done computing similarity matrix.\n",
      "Computing the cosine similarity matrix...\n",
      "Done computing similarity matrix.\n",
      "Computing the pearson similarity matrix...\n",
      "Done computing similarity matrix.\n",
      "Computing the pearson similarity matrix...\n",
      "Done computing similarity matrix.\n",
      "Computing the pearson similarity matrix...\n",
      "Done computing similarity matrix.\n",
      "Computing the cosine similarity matrix...\n",
      "Done computing similarity matrix.\n",
      "Computing the cosine similarity matrix...\n",
      "Done computing similarity matrix.\n",
      "Computing the cosine similarity matrix...\n",
      "Done computing similarity matrix.\n",
      "Computing the pearson similarity matrix...\n",
      "Done computing similarity matrix.\n",
      "Computing the pearson similarity matrix...\n",
      "Done computing similarity matrix.\n",
      "Computing the pearson similarity matrix...\n",
      "Done computing similarity matrix.\n",
      "Computing the cosine similarity matrix...\n",
      "Done computing similarity matrix.\n",
      "Computing the cosine similarity matrix...\n",
      "Done computing similarity matrix.\n",
      "Computing the cosine similarity matrix...\n",
      "Done computing similarity matrix.\n",
      "Computing the pearson similarity matrix...\n",
      "Done computing similarity matrix.\n",
      "Computing the pearson similarity matrix...\n",
      "Done computing similarity matrix.\n",
      "Computing the pearson similarity matrix...\n",
      "Done computing similarity matrix.\n",
      "Computing the cosine similarity matrix...\n",
      "Done computing similarity matrix.\n",
      "Computing the cosine similarity matrix...\n",
      "Done computing similarity matrix.\n",
      "Computing the cosine similarity matrix...\n",
      "Done computing similarity matrix.\n",
      "Computing the pearson similarity matrix...\n",
      "Done computing similarity matrix.\n",
      "Computing the pearson similarity matrix...\n",
      "Done computing similarity matrix.\n",
      "Computing the pearson similarity matrix...\n",
      "Done computing similarity matrix.\n",
      "Computing the cosine similarity matrix...\n",
      "Done computing similarity matrix.\n",
      "Computing the cosine similarity matrix...\n",
      "Done computing similarity matrix.\n",
      "Computing the cosine similarity matrix...\n",
      "Done computing similarity matrix.\n",
      "Computing the pearson similarity matrix...\n",
      "Done computing similarity matrix.\n",
      "Computing the pearson similarity matrix...\n",
      "Done computing similarity matrix.\n",
      "Computing the pearson similarity matrix...\n",
      "Done computing similarity matrix.\n",
      "Computing the cosine similarity matrix...\n",
      "Done computing similarity matrix.\n",
      "Computing the cosine similarity matrix...\n",
      "Done computing similarity matrix.\n",
      "Computing the cosine similarity matrix...\n",
      "Done computing similarity matrix.\n",
      "Computing the pearson similarity matrix...\n",
      "Done computing similarity matrix.\n",
      "Computing the pearson similarity matrix...\n",
      "Done computing similarity matrix.\n",
      "Computing the pearson similarity matrix...\n",
      "Done computing similarity matrix.\n",
      "Best RMSE for KNN: 4.222691837491948\n",
      "Best Parameters for KNN: {'k': 15, 'sim_options': {'name': 'cosine', 'user_based': False}}\n"
     ]
    }
   ],
   "source": [
    "# Define parameter grid for tuning\n",
    "param_grid = {\n",
    "    'k': [10, 15, 20, 25, 30, 35, 40],  # Trying different numbers of neighbors\n",
    "    'sim_options': {'name': ['cosine', 'pearson'], 'user_based': [False]}  # Trying both user-based and item-based CF\n",
    "}\n",
    "\n",
    "# Run Grid Search\n",
    "grid_search_knn = GridSearchCV(KNNBasic, param_grid, measures=['rmse'], cv=3)\n",
    "grid_search_knn.fit(data)\n",
    "\n",
    "# Print results\n",
    "print(\"Best RMSE for KNN:\", grid_search_knn.best_score['rmse'])\n",
    "print(\"Best Parameters for KNN:\", grid_search_knn.best_params['rmse'])"
   ]
  },
  {
   "cell_type": "code",
   "execution_count": 104,
   "metadata": {},
   "outputs": [
    {
     "name": "stdout",
     "output_type": "stream",
     "text": [
      "Computing the cosine similarity matrix...\n",
      "Done computing similarity matrix.\n",
      "RMSE: 4.1905\n"
     ]
    }
   ],
   "source": [
    "# KNN Model\n",
    "knn_model = KNNBasic(sim_options={'name': 'cosine', 'user_based': False},k=15)\n",
    "knn_model.fit(trainset)\n",
    "knn_predictions = knn_model.test(testset)\n",
    "rmse_score = accuracy.rmse(knn_predictions)"
   ]
  },
  {
   "cell_type": "markdown",
   "metadata": {},
   "source": [
    "After computing the similarity matrix and testing all combinations, the best-performing configuration resulted in an RMSE of 4.1905"
   ]
  },
  {
   "cell_type": "markdown",
   "metadata": {},
   "source": [
    "#### 3.2.2 | Function to generate personalised movie recommendation"
   ]
  },
  {
   "cell_type": "markdown",
   "metadata": {},
   "source": [
    "To present personalised recommendations, a function was defined to extract the top  predicted jokes for a given user based on the output from the Surprise model."
   ]
  },
  {
   "cell_type": "code",
   "execution_count": null,
   "metadata": {},
   "outputs": [],
   "source": [
    "def get_top_n_recommendations(predictions, items_df, user_id, n=10):\n",
    "   \n",
    "    top_n = defaultdict(list)\n",
    "\n",
    "    # Store predicted ratings for each user\n",
    "    for uid, iid, true_r, est, _ in predictions:\n",
    "        top_n[uid].append((iid, est))\n",
    "\n",
    "    # Sort by predicted rating\n",
    "    for uid, user_ratings in top_n.items():\n",
    "        user_ratings.sort(key=lambda x: x[1], reverse=True)\n",
    "        top_n[uid] = user_ratings[:n]\n",
    "\n",
    "    # Convert to DataFrame with joke texts\n",
    "    recommendations = pd.DataFrame(\n",
    "        [(iid, items_df.loc[items_df['jokeId'] == iid, 'jokeText'].values[0] if iid in items_df['jokeId'].values else \"Unknown\", est)\n",
    "         for iid, est in top_n.get(user_id, [])[:n]],  \n",
    "        columns=['Joke ID', 'Joke Text', 'Predicted Rating']\n",
    "    )\n",
    "\n",
    "    return recommendations"
   ]
  },
  {
   "cell_type": "markdown",
   "metadata": {},
   "source": [
    "#### 3.2.3 | Movie recommendation based in KNN Surprise"
   ]
  },
  {
   "cell_type": "markdown",
   "metadata": {},
   "source": [
    "This call retrieves the top 10 jokes predicted to best match the user’s preferences based on the KNN model's output. The resulting list includes the joke IDs, corresponding joke texts, and their predicted ratings."
   ]
  },
  {
   "cell_type": "code",
   "execution_count": null,
   "metadata": {},
   "outputs": [
    {
     "name": "stdout",
     "output_type": "stream",
     "text": [
      " Top 10 Recommended Jokes for User 10\n",
      " Joke ID                                                                                                                                                                                                                                                                                                                                                                                                                                                                                                                                                                                                                                                                                                                                                                                                                                                                                                                                                                                                                                                                                                                                                                                                                                                                     Joke Text  Predicted Rating\n",
      "      49                                                                                                                                                                                                                                                                                                                                                                                                                                                                                                                                                                                                                                                                                                                                                                                                                                        Three engineering students were gathered together discussing the\\npossible designers of the human body.  \\nOne said, \"It was a mechanical engineer. Just look at all the joints.\"  \\nAnother said, \"No, it was an electrical engineer.  The nervous systems many thousands of electrical\\nconnections.\"  \\nThe last said, \"Actually it was a civil engineer. Who else would run a toxic waste pipeline through a recreational area?\"\\n          4.918409\n",
      "      89                                                                                                                                                                                                                                                                                                                                                                                                                                  A radio conversation of a US naval \\nship with Canadian authorities ... \\n\\nAmericans: Please divert your course 15 degrees to the North to avoid a\\ncollision.\\n\\nCanadians: Recommend you divert YOUR course 15 degrees to the South to \\navoid a collision.\\n\\nAmericans: This is the Captain of a US Navy ship.  I say again, divert \\nYOUR course.\\n\\nCanadians: No.  I say again, you divert YOUR course.\\n\\nAmericans: This is the aircraft carrier USS LINCOLN, the second largest ship in the United States' Atlantic Fleet. We are accompanied by three destroyers, three cruisers and numerous support vessels. I demand that you change your course 15 degrees north, that's ONE FIVE DEGREES NORTH, or counter-measures will be undertaken to ensure the safety of this ship.\\n\\nCanadians: This is a lighthouse.  Your call.\\n          4.773474\n",
      "      54                                                                                                                                                                                                                                                                 The Pope dies and, naturally, goes to heaven. He's met by the reception\\ncommittee, and after a whirlwind tour he is told that he can enjoy any\\nof the myriad of recreations available.\\nHe decides that he wants to read all of the ancient original text of the\\nHoly Scriptures, so he spends the next eon or so learning languages.\\nAfter becoming a linguistic master, he sits down in the library and\\nbegins to pour over every version of the Bible, working back from most\\nrecent \"Easy Reading\" to the original script.\\nAll of a sudden there is a scream in the library. The Angels come\\nrunning in only to find the Pope huddled in his chair, crying to himself\\nand muttering, \"An 'R'! The scribes left out the 'R'.\" \\nA particularly concerned Angel takes him aside, offering comfort, asks\\nhim what the problem is and what does he mean. \\nAfter collecting his\\nwits, the Pope sobs again, \"It's the letter 'R'. They left out the 'R'.\\nThe word was supposed to be CELEBRATE!\"\\n          4.457130\n",
      "     105                                                                                                                                                                                                                                                                                                                                                                                                                                                                                                                                                                                                                                                                                                                                                A couple of hunters are out in the woods in the deep south when one of them falls to the ground. He doesn't seem to be breathing, and his eyes are rolled back in his head. The other guy whips out his cell phone and calls 911. He gasps to the operator, \"My friend is dead! What can I do?\" The operator, in a calm and soothing voice, says, \"Alright, take it easy. I can help. First, let's make sure he's dead.\" There is silence, and then a gun shot is heard. The hunter comes back on the line. \"Okay. Now what??\"          4.426256\n",
      "      72                                                                                                                                                                                                                                                                                                                                                                                                                                                                                                                                                                                                                                                                                                                On the first day of college, the Dean addressed the students,\\npointing out some of the rules:\\n\\n\"The female dormitory will be out-of-bounds for all male students\\nand the male dormitory to the female students. Anybody caught breaking\\nthis rule will be finded $20 the first time.\" He continued, \"Anybody \\ncaught breaking this rule the second time will be fined $60. Being caught\\na third time will cost you a fine of $180. Are there any questions ?\"\\n\\nAt this point, a male student in the crowd inquired:\\n\"How much for a season pass ?\"\\n          4.405811\n",
      "      47                                                                                        There was an engineer who had an exceptional gift for fixing all \\nthings mechanical.  After serving his company loyally for over 30 \\nyears, he happily retired.  Several years later the company contacted \\nhim regarding a seemingly impossible problem they were having with \\none of their multi-million dollar machines. They had tried everything and \\neveryone else to get the machine fixed, but to no avail.  In \\ndesperation, they called on the retired engineer who had solved so \\nmany of their problems in the past.\\nThe engineer reluctantly took the challenge.  He spent a day studying \\nthe huge machine.  At the end of the day, he marked a small \"x\" in \\nchalk on a particular component of the machine and proudly stated, \\n\"This is where your problem is\".\\nThe part was replaced and the machine worked perfectly again. The \\ncompany received a bill for $50,000 from the engineer for his \\nservice.They demanded an itemized accounting of his charges. The \\nengineer responded briefly:\\nOne chalk mark                       $1 \\nKnowing where to put it            $49,999\\nIt was paid in full and the engineer retired again in peace. \\n          4.210393\n",
      "     119                                                                                                                                                                                                                                                                                                                                                                                                                                                                                                                                                                                                                                                                                                                 One day the first grade teacher was reading the story of the Three Little Pigs to her class. She came to the part of the story where the first pig was trying to accumulate the building materials for his home. She read, \"...and so the pig went up to the man with the wheelbarrow full of straw and said, 'Pardon me sir, but may I have some of that straw to build my house?'\" The teacher paused then asked the class, \"And what do you think that man said?\" One little boy raised his hand and said, \"I know...he said, 'Holy Shit! A talking pig!'\"          4.100377\n",
      "      69                                                                                                                                                                                                                                                                                                                                                                                                                                                       This guys wife asks, \"Honey if I died would you remarry?\" and he replies,\\n\"Well, after a considerable period of grieving, we all need\\ncompanionship, I guess I would.\"\\n\\nShe then asks, \"If I died and you remarried, would she live in this\\nhouse?\" and he replies, \"We've spent a lot of time and money getting this\\nhouse just the way we want it. I'm not going to get rid of my house, I\\nguess she would.\"\\n\\n\"If I died and you remarried, and she lived in this house, would she\\nsleep in our bed?\" and he says, \"That bed is brand new, we just paid two\\nthousand dollars for it, it's going to last a long time, I guess she\\nwould.\"\\n\\nSo she asks, \"If I died and you remarried, and she lived in this house,\\nand slept in our bed, would she use my golf clubs?\"\\n\\n\"Oh no, she's left handed.\"\\n          3.901312\n",
      "     116 A man in a hot air balloon realized he was lost. He reduced altitude and spotted a woman below. He descended a bit more and shouted, \"Excuse me, can you help me? I promised a friend I would meet him an hour ago, but I don't know where I am.\" The woman below replied, \"You are in a hot air balloon hovering approximately 30 feet above the ground. You are between 40 and 41 degrees north latitude and between 59 and 60 degrees west longitude.\" \"You must be an engineer,\" said the balloonist. \"I am,\" replied the woman. \"How did you know?\" \"Well,\" answered the balloonist, \"everything you told me is technically correct, but I have no idea what to make of your information, and the fact is, I am still lost. Frankly, you've not been much help so far.\" The woman below responded, \"You must be in management.\" \"I am,\" replied the balloonist, \"but how did you know?\" \"Well,\" said the woman, \"you don't know where you are or where you are going. You have risen to where you are due to a large quantity of hot air. You made a promise that you have no idea how to keep, and you expect people beneath you to solve your problems. The fact is, you are in exactly the same position you were in before we met, but now, somehow, it's my fault!\"          3.220841\n",
      "      38                                                                                                                                                                                                                                                                                                                                                                                                                                                                                                                                                                                                                                                                                                                                                                                                                                                                                                                                                                                                                                                                                 \"May I take your order?\" the waiter asked. \\n\\n\"Yes, how do you prepare your chickens?\" \\n\\n\"Nothing special sir,\" he replied. \"We just tell them straight out\\nthat they're going to die.\"\\n          2.619946\n"
     ]
    }
   ],
   "source": [
    "user_id = 10 \n",
    "recommended_jokes = get_top_n_recommendations(knn_predictions, items_df, user_id)\n",
    "# Display recommendations\n",
    "print(f\"Top {len(recommended_jokes)} Recommended Jokes for User {user_id}\")\n",
    "print(recommended_jokes.to_string(index=False))"
   ]
  },
  {
   "cell_type": "markdown",
   "metadata": {},
   "source": [
    "### 3.3| Singular Value Decomposition with Surprise\n",
    "This section demonstrates the implementation of a recommendation system using the Singular Value Decomposition (SVD) from the Surprise library. SVD is a matrix factorization technique that uncovers features underlying user-item interactions, making it effective for collaborative filtering tasks. \n",
    "\n",
    "The process begins by initializing the dataset using Surprise’s Reader class and loading it with user ratings on jokes. The dataset is then split into training and test sets to evaluate the model's predictive performance."
   ]
  },
  {
   "cell_type": "code",
   "execution_count": null,
   "metadata": {},
   "outputs": [
    {
     "name": "stdout",
     "output_type": "stream",
     "text": [
      "RMSE: 4.4684\n"
     ]
    }
   ],
   "source": [
    "# Initialise SVD model\n",
    "svd_model = SVD()\n",
    "\n",
    "# Train the model on the training set\n",
    "svd_model.fit(trainset)\n",
    "\n",
    "# Predict ratings for the test set\n",
    "svd_predictions = svd_model.test(testset)\n",
    "\n",
    "# RMSE\n",
    "rmse_score = accuracy.rmse(svd_predictions)"
   ]
  },
  {
   "cell_type": "markdown",
   "metadata": {},
   "source": [
    "#### 3.3.1| Hyperparameter Tunning for SVD"
   ]
  },
  {
   "cell_type": "markdown",
   "metadata": {},
   "source": [
    "SVD model is trained and evaluated using RMSE. To enhance the model’s accuracy, a GridSearchCV is performed across various hyperparameters including the number of latent factors (n_factors), regularization strength (reg_all), and learning rate (lr_all). This cross-validation identifies the combination of parameters that minimizes RMSE."
   ]
  },
  {
   "cell_type": "code",
   "execution_count": 111,
   "metadata": {},
   "outputs": [],
   "source": [
    "# Define the parameter grid for tuning\n",
    "param_grid = {\n",
    "    'n_factors': [50, 100, 150],  # Number of latent factors\n",
    "    'reg_all': [0.02, 0.05, 0.1],  # Regularization strength\n",
    "    'lr_all': [0.002, 0.005, 0.01]  # Learning rate\n",
    "}\n",
    "\n",
    "# Run Grid Search\n",
    "grid_search_svd = GridSearchCV(SVD, param_grid, measures=['rmse'], cv=3)\n",
    "grid_search_svd.fit(data)"
   ]
  },
  {
   "cell_type": "code",
   "execution_count": 112,
   "metadata": {},
   "outputs": [
    {
     "data": {
      "text/plain": [
       "<surprise.prediction_algorithms.matrix_factorization.SVD at 0x1b8da6fff40>"
      ]
     },
     "execution_count": 112,
     "metadata": {},
     "output_type": "execute_result"
    }
   ],
   "source": [
    "# Get the best hyperparameters\n",
    "best_params = grid_search_svd.best_params['rmse']\n",
    "\n",
    "# Train the final SVD model\n",
    "svd_model = SVD(n_factors=best_params['n_factors'], \n",
    "                reg_all=best_params['reg_all'], \n",
    "                lr_all=best_params['lr_all'])\n",
    "\n",
    "# Fit the model on the full training set\n",
    "svd_model.fit(trainset)"
   ]
  },
  {
   "cell_type": "code",
   "execution_count": null,
   "metadata": {},
   "outputs": [
    {
     "name": "stdout",
     "output_type": "stream",
     "text": [
      "RMSE: 4.1503\n"
     ]
    }
   ],
   "source": [
    "# Generate predictions on the test set\n",
    "svd_predictions = svd_model.test(testset)\n",
    "\n",
    "# RMSE on test data\n",
    "rmse_score = accuracy.rmse(svd_predictions)"
   ]
  },
  {
   "cell_type": "markdown",
   "metadata": {},
   "source": [
    "After tuning, the SVD model is retrained using the best parameters and applied to the test set, yielding a final RMSE score of 4.1503. Lastly, personalised joke recommendations are generated for a specific user by extracting the top 10 jokes with the highest predicted ratings."
   ]
  },
  {
   "cell_type": "markdown",
   "metadata": {},
   "source": [
    "#### 3.3.2| Personalised joke recommendations"
   ]
  },
  {
   "cell_type": "code",
   "execution_count": null,
   "metadata": {},
   "outputs": [
    {
     "name": "stdout",
     "output_type": "stream",
     "text": [
      " Top 10 Recommended Jokes for User 10 \n",
      " Joke ID                                                                                                                                                                                                                                                                                                                                                                                                                                                                                                                                                                                                                                                                                                                                                                                                                                                                                                                                                                                                                                                                                                                                                                                                                                                                     Joke Text  Predicted Rating\n",
      "      49                                                                                                                                                                                                                                                                                                                                                                                                                                                                                                                                                                                                                                                                                                                                                                                                                                        Three engineering students were gathered together discussing the\\npossible designers of the human body.  \\nOne said, \"It was a mechanical engineer. Just look at all the joints.\"  \\nAnother said, \"No, it was an electrical engineer.  The nervous systems many thousands of electrical\\nconnections.\"  \\nThe last said, \"Actually it was a civil engineer. Who else would run a toxic waste pipeline through a recreational area?\"\\n          6.553112\n",
      "      74                                                                                                                                                                                                                                                                                                                                                                                                                                                                                                                                                                                                                                                                                                                                                                                                                                                                                                                                                                                                                                                                                                                                      Q: How many stalkers does it take to change a light bulb?\\n\\nA: Two. One to replace the bulb, and the other to watch it day and night.\\n          4.464872\n",
      "      72                                                                                                                                                                                                                                                                                                                                                                                                                                                                                                                                                                                                                                                                                                                On the first day of college, the Dean addressed the students,\\npointing out some of the rules:\\n\\n\"The female dormitory will be out-of-bounds for all male students\\nand the male dormitory to the female students. Anybody caught breaking\\nthis rule will be finded $20 the first time.\" He continued, \"Anybody \\ncaught breaking this rule the second time will be fined $60. Being caught\\na third time will cost you a fine of $180. Are there any questions ?\"\\n\\nAt this point, a male student in the crowd inquired:\\n\"How much for a season pass ?\"\\n          4.308320\n",
      "      59                                                                                                                                                                                                                                                                                                                                                                                                                                                                                                                                                                                                                                                                                                                                                                                                                                                                                                                                                                                                                                                     The Chukcha (Russian Eskimo) phones up the Russian Parliament Building.  \\nA guard answers. \\nChukcha:  \"What is required to become Parliament member?\"\\nGuard:  \"What are you, an idiot?\"\\nChukcha:  \"Is it required?\"\\n          3.842120\n",
      "      46                                                                                                                                                                                                                                                                                                                                                                                                                                                                                                                                                                                                                                                                                                                                                                                                                                                                                                           A couple has been married for 75 years. For the husband's 95th\\nbirthday, his wife decides to surprise him by hiring a prostitute.\\nThat day, the doorbell rings. The husband uses his walker to get to\\nthe door and opens it. \\nA 21-year-old in a latex outfit smiles and\\nsays, \"Hi, I here to give you super sex!\" \\nThe old man says, \"I'll take the soup.\"\\n          3.753459\n",
      "     105                                                                                                                                                                                                                                                                                                                                                                                                                                                                                                                                                                                                                                                                                                                                                A couple of hunters are out in the woods in the deep south when one of them falls to the ground. He doesn't seem to be breathing, and his eyes are rolled back in his head. The other guy whips out his cell phone and calls 911. He gasps to the operator, \"My friend is dead! What can I do?\" The operator, in a calm and soothing voice, says, \"Alright, take it easy. I can help. First, let's make sure he's dead.\" There is silence, and then a gun shot is heard. The hunter comes back on the line. \"Okay. Now what??\"          3.660725\n",
      "      20                                                                                                                                                                                                                                                                                                                                                                                                                                                                                                                                                                                                                                                                                                                                                                                                                                                                                                                                                                                                                                                                                                                                                  What's the difference between a MacIntosh and an\\nEtch-A-Sketch? \\n\\nYou don't have to shake the Mac to clear the screen. \\n          3.133645\n",
      "      69                                                                                                                                                                                                                                                                                                                                                                                                                                                       This guys wife asks, \"Honey if I died would you remarry?\" and he replies,\\n\"Well, after a considerable period of grieving, we all need\\ncompanionship, I guess I would.\"\\n\\nShe then asks, \"If I died and you remarried, would she live in this\\nhouse?\" and he replies, \"We've spent a lot of time and money getting this\\nhouse just the way we want it. I'm not going to get rid of my house, I\\nguess she would.\"\\n\\n\"If I died and you remarried, and she lived in this house, would she\\nsleep in our bed?\" and he says, \"That bed is brand new, we just paid two\\nthousand dollars for it, it's going to last a long time, I guess she\\nwould.\"\\n\\nSo she asks, \"If I died and you remarried, and she lived in this house,\\nand slept in our bed, would she use my golf clubs?\"\\n\\n\"Oh no, she's left handed.\"\\n          2.898028\n",
      "     116 A man in a hot air balloon realized he was lost. He reduced altitude and spotted a woman below. He descended a bit more and shouted, \"Excuse me, can you help me? I promised a friend I would meet him an hour ago, but I don't know where I am.\" The woman below replied, \"You are in a hot air balloon hovering approximately 30 feet above the ground. You are between 40 and 41 degrees north latitude and between 59 and 60 degrees west longitude.\" \"You must be an engineer,\" said the balloonist. \"I am,\" replied the woman. \"How did you know?\" \"Well,\" answered the balloonist, \"everything you told me is technically correct, but I have no idea what to make of your information, and the fact is, I am still lost. Frankly, you've not been much help so far.\" The woman below responded, \"You must be in management.\" \"I am,\" replied the balloonist, \"but how did you know?\" \"Well,\" said the woman, \"you don't know where you are or where you are going. You have risen to where you are due to a large quantity of hot air. You made a promise that you have no idea how to keep, and you expect people beneath you to solve your problems. The fact is, you are in exactly the same position you were in before we met, but now, somehow, it's my fault!\"          2.871910\n",
      "      89                                                                                                                                                                                                                                                                                                                                                                                                                                  A radio conversation of a US naval \\nship with Canadian authorities ... \\n\\nAmericans: Please divert your course 15 degrees to the North to avoid a\\ncollision.\\n\\nCanadians: Recommend you divert YOUR course 15 degrees to the South to \\navoid a collision.\\n\\nAmericans: This is the Captain of a US Navy ship.  I say again, divert \\nYOUR course.\\n\\nCanadians: No.  I say again, you divert YOUR course.\\n\\nAmericans: This is the aircraft carrier USS LINCOLN, the second largest ship in the United States' Atlantic Fleet. We are accompanied by three destroyers, three cruisers and numerous support vessels. I demand that you change your course 15 degrees north, that's ONE FIVE DEGREES NORTH, or counter-measures will be undertaken to ensure the safety of this ship.\\n\\nCanadians: This is a lighthouse.  Your call.\\n          2.813645\n"
     ]
    }
   ],
   "source": [
    "# Get recommendations for user\n",
    "user_id = 10 \n",
    "\n",
    "# Get top 10 joke recommendations for the user\n",
    "svd_recommendations_df = get_top_n_recommendations(svd_predictions, items_df, user_id, n=10)\n",
    "\n",
    "# Display recommendations\n",
    "print(f\" Top 10 Recommended Jokes for User {user_id} \")\n",
    "print(svd_recommendations_df.to_string(index=False))\n"
   ]
  },
  {
   "cell_type": "markdown",
   "metadata": {},
   "source": [
    "# 4|Conclusion"
   ]
  },
  {
   "cell_type": "markdown",
   "metadata": {},
   "source": [
    "This project explored whether KNN and SVD could effectively predict user ratings for jokes they had not seen and generate recommendations for each user based on similar users there ratings. Both models were implemented, optimezed, and evaluated on their accuracy to understand their strenghts and weaknesses. \n",
    "\n",
    "The results show that both KNN and SVD ara capable of generating more or less accurted recommendations. SVD showed slightly better performance in terms of the RMSE. after hyperparameter tuning, SVD achieved an RMSE of 4.1503, compared to KNN's 4.1905 with the surprise library. The manual KNN perfomed the worst with an RMSE of 5.4801.\n",
    "\n",
    "### 1) How accurate are the predictions made by KNN and SVD algorithms for unseen jokes?\n",
    "The accuracy of the models was evaluated using RMSE. The differences in RMSE indicate that SVD is slightly better in accuracy. However, all the models still produced RMSE values above 4, showing that the dataset is challenging due to the broad rating scale and diversity in preferences.\n",
    "\n",
    "### 2) Which algorithm (KNN or SVD) performs better?\n",
    "Based on the RMSE scores, SVD performed better than KNN. This is expected, as SVD is a matrix factorization technique that captures latent relationships between users and items more effectively, while KNN is limited to surface-level similarities between users or items. KNN was noticeably slower compared to SVD. This difference in performance is due to KNN's reliance on computing similarities across users or items during runtime, which becomes computationally demanding as the dataset grows. In contrast, SVD leverages matrix factorization techniques that allow for faster processing once the model is trained.\n",
    "\n",
    "### 3) How can the performance of the algorithms be improved?\n",
    "\n",
    "Several steps contributed to performance improvements:\n",
    "\n",
    "- Hyperparameter tuning was essential. For example, tuning the number of neighbors in KNN helped reduce the RMSE significantly.\n",
    "- Data preprocessing, such as filtering for active users and removing missing values, improved the quality of the input data.\n",
    "- Reducing sparsity and using dimensionality reduction techniques like SVD helped capture deeper patterns in the data.\n",
    "\n",
    "### **Can KNN and SVD effectively predict ratings for jokes that a user has never seen before?**\n",
    "Yes, both KNN and SVD can effectively predict ratings for unseen jokes, with varying degrees of accuracy. The models were able to identify patterns in user preferences and generate personalised recommendations. While KNN performed reasonably well, SVD proved to be more effective, achieving a lower RMSE and capturing deeper user-item relationships through matrix factorization. These results suggest that collaborative filtering techniques, especially SVD, are suitable for building joke recommendation systems and can enhance user experience by delivering relevant content even for unrated items."
   ]
  }
 ],
 "metadata": {
  "kernelspec": {
   "display_name": "base",
   "language": "python",
   "name": "python3"
  },
  "language_info": {
   "codemirror_mode": {
    "name": "ipython",
    "version": 3
   },
   "file_extension": ".py",
   "mimetype": "text/x-python",
   "name": "python",
   "nbconvert_exporter": "python",
   "pygments_lexer": "ipython3",
   "version": "3.10.9"
  },
  "orig_nbformat": 4
 },
 "nbformat": 4,
 "nbformat_minor": 2
}
